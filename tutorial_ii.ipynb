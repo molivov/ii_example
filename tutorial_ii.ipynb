{
 "cells": [
  {
   "cell_type": "markdown",
   "id": "84c82963",
   "metadata": {},
   "source": [
    "This notebook estimates the model $y = \\exp(X \\beta) + u$ where $u \\sim N(0, 1.5)$ with indirect inference, using a linear regression as the auxiliary model."
   ]
  },
  {
   "cell_type": "markdown",
   "id": "9b247198",
   "metadata": {},
   "source": [
    "Load necessary packages."
   ]
  },
  {
   "cell_type": "code",
   "execution_count": 1,
   "id": "ca5f783d",
   "metadata": {},
   "outputs": [],
   "source": [
    "using Random\n",
    "using CSV\n",
    "using DataFrames\n",
    "using Distributions\n",
    "using LinearAlgebra\n",
    "using Statistics\n",
    "using Optim"
   ]
  },
  {
   "cell_type": "markdown",
   "id": "7be4bf8a",
   "metadata": {},
   "source": [
    "Sets random seed, for generating random numbers to be used in the simulations."
   ]
  },
  {
   "cell_type": "code",
   "execution_count": 2,
   "id": "1c17cf1b",
   "metadata": {},
   "outputs": [
    {
     "data": {
      "text/plain": [
       "TaskLocalRNG()"
      ]
     },
     "execution_count": 2,
     "metadata": {},
     "output_type": "execute_result"
    }
   ],
   "source": [
    "Random.seed!(243587)"
   ]
  },
  {
   "cell_type": "markdown",
   "id": "972853ee",
   "metadata": {},
   "source": [
    "Loads the data and stores in arrays X and y."
   ]
  },
  {
   "cell_type": "code",
   "execution_count": 3,
   "id": "77d02f77",
   "metadata": {},
   "outputs": [],
   "source": [
    "data = CSV.read(\"data_ii.csv\", DataFrame)\n",
    "\n",
    "const X = Matrix(data[!, [:x1, :x2]])\n",
    "const y = Vector(data[!, :y]);"
   ]
  },
  {
   "cell_type": "markdown",
   "id": "43dfa3db",
   "metadata": {},
   "source": [
    "Draws random numbers for the simulations."
   ]
  },
  {
   "cell_type": "code",
   "execution_count": 4,
   "id": "9c626821",
   "metadata": {},
   "outputs": [],
   "source": [
    "const M = 10\n",
    "const u = rand(Normal(0, sqrt(1.5)), length(y), M);"
   ]
  },
  {
   "cell_type": "markdown",
   "id": "121cca9a",
   "metadata": {},
   "source": [
    "Defines the estimator for the linear regression."
   ]
  },
  {
   "cell_type": "code",
   "execution_count": 5,
   "id": "b0da2418",
   "metadata": {},
   "outputs": [
    {
     "data": {
      "text/plain": [
       "ols (generic function with 1 method)"
      ]
     },
     "execution_count": 5,
     "metadata": {},
     "output_type": "execute_result"
    }
   ],
   "source": [
    "function ols(x, y; add_constant=true)\n",
    "    if add_constant == true\n",
    "        n = size(x, 1)\n",
    "        x = hcat(ones(n), x)\n",
    "    end\n",
    "    x \\ y # this is the same as (x'*x)^{-1} * x'*y, but faster and more accurate\n",
    "end"
   ]
  },
  {
   "cell_type": "markdown",
   "id": "9c1823da",
   "metadata": {},
   "source": [
    "Estimates auxiliary model with the observed data and stores parameters in $\\widehat{\\beta}$."
   ]
  },
  {
   "cell_type": "code",
   "execution_count": 6,
   "id": "2e8d4324",
   "metadata": {},
   "outputs": [
    {
     "data": {
      "text/plain": [
       "3-element Vector{Float64}:\n",
       " 2.831630852490789\n",
       " 0.7352811810457907\n",
       " 1.2756697273637128"
      ]
     },
     "execution_count": 6,
     "metadata": {},
     "output_type": "execute_result"
    }
   ],
   "source": [
    "const β̂ = ols(X, y)"
   ]
  },
  {
   "cell_type": "markdown",
   "id": "dac344fe",
   "metadata": {},
   "source": [
    "Defines the structural model, to be used for simulating variable y."
   ]
  },
  {
   "cell_type": "code",
   "execution_count": 7,
   "id": "8725d815",
   "metadata": {},
   "outputs": [
    {
     "data": {
      "text/plain": [
       "G (generic function with 1 method)"
      ]
     },
     "execution_count": 7,
     "metadata": {},
     "output_type": "execute_result"
    }
   ],
   "source": [
    "function G(X, u, θ)\n",
    "    exp.(hcat(ones(size(X, 1)), X) * θ) + u\n",
    "end"
   ]
  },
  {
   "cell_type": "markdown",
   "id": "603e6146",
   "metadata": {},
   "source": [
    "Defines the Wald criterion function."
   ]
  },
  {
   "cell_type": "code",
   "execution_count": 8,
   "id": "a837b158",
   "metadata": {},
   "outputs": [
    {
     "data": {
      "text/plain": [
       "wald (generic function with 1 method)"
      ]
     },
     "execution_count": 8,
     "metadata": {},
     "output_type": "execute_result"
    }
   ],
   "source": [
    "wald(β̃; β̂=β̂) = sum((β̂ - β̃).^2)"
   ]
  },
  {
   "cell_type": "markdown",
   "id": "966149f1",
   "metadata": {},
   "source": [
    "Defines the objective function to be optimized. The trick here is to define an objective function that, for each value of $\\theta$ simulates endogenous variables, estimates the auxiliary model, and returns the Wald criterion."
   ]
  },
  {
   "cell_type": "code",
   "execution_count": 9,
   "id": "5a4cd5ad",
   "metadata": {},
   "outputs": [
    {
     "data": {
      "text/plain": [
       "obj (generic function with 1 method)"
      ]
     },
     "execution_count": 9,
     "metadata": {},
     "output_type": "execute_result"
    }
   ],
   "source": [
    "function obj(θ; X=X, u=u, β̂=β̂)\n",
    "    ỹ = [G(X, u[:, m], θ) for m in 1:M] # this simulates the data\n",
    "    β̃ = mean([ols(X, ỹ[m]) for m in 1:M]) # this estimates aux model on simulated data, and then averages parameters\n",
    "    return wald(β̃; β̂=β̂)\n",
    "end"
   ]
  },
  {
   "cell_type": "markdown",
   "id": "cd1d28da",
   "metadata": {},
   "source": [
    "Optimizes the criterion function."
   ]
  },
  {
   "cell_type": "code",
   "execution_count": 10,
   "id": "9a9f1e4f",
   "metadata": {},
   "outputs": [
    {
     "data": {
      "text/plain": [
       " * Status: success\n",
       "\n",
       " * Candidate solution\n",
       "    Final objective value:     2.509667e-09\n",
       "\n",
       " * Found with\n",
       "    Algorithm:     Nelder-Mead\n",
       "\n",
       " * Convergence measures\n",
       "    √(Σ(yᵢ-ȳ)²)/n ≤ 1.0e-08\n",
       "\n",
       " * Work counters\n",
       "    Seconds run:   0  (vs limit Inf)\n",
       "    Iterations:    87\n",
       "    f(x) calls:    164\n"
      ]
     },
     "execution_count": 10,
     "metadata": {},
     "output_type": "execute_result"
    }
   ],
   "source": [
    "θ0 = ols(X, y) # initial vector of parameters\n",
    "opt = optimize(θ -> obj(θ; X=X, u=u, β̂=β̂), θ0, NelderMead())"
   ]
  },
  {
   "cell_type": "markdown",
   "id": "e230b251",
   "metadata": {},
   "source": [
    "The estimated parameters $\\theta$ are"
   ]
  },
  {
   "cell_type": "code",
   "execution_count": 11,
   "id": "53c47038",
   "metadata": {},
   "outputs": [
    {
     "data": {
      "text/plain": [
       "3-element Vector{Float64}:\n",
       " 0.9161777416152237\n",
       " 0.2539215090768394\n",
       " 0.4384842282660998"
      ]
     },
     "execution_count": 11,
     "metadata": {},
     "output_type": "execute_result"
    }
   ],
   "source": [
    "opt.minimizer"
   ]
  },
  {
   "cell_type": "markdown",
   "id": "1bf5a8af",
   "metadata": {},
   "source": [
    "Compare with the true values."
   ]
  },
  {
   "cell_type": "raw",
   "id": "67e6ea82",
   "metadata": {},
   "source": [
    " 0.9279139553540544\n",
    " 0.2408481106524355\n",
    " 0.4354059904502885"
   ]
  }
 ],
 "metadata": {
  "kernelspec": {
   "display_name": "Julia 1.9.0",
   "language": "julia",
   "name": "julia-1.9"
  },
  "language_info": {
   "file_extension": ".jl",
   "mimetype": "application/julia",
   "name": "julia",
   "version": "1.9.0"
  }
 },
 "nbformat": 4,
 "nbformat_minor": 5
}
